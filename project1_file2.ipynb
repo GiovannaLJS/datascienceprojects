{
 "cells": [
  {
   "cell_type": "code",
   "execution_count": null,
   "id": "ebec9b7e",
   "metadata": {},
   "outputs": [],
   "source": [
    "%pip install numpy"
   ]
  },
  {
   "cell_type": "code",
   "execution_count": 3,
   "id": "e92257cc",
   "metadata": {},
   "outputs": [],
   "source": [
    "import numpy as np"
   ]
  },
  {
   "cell_type": "code",
   "execution_count": 4,
   "id": "56daa9e1",
   "metadata": {},
   "outputs": [
    {
     "data": {
      "text/plain": [
       "array([1, 2, 3])"
      ]
     },
     "execution_count": 4,
     "metadata": {},
     "output_type": "execute_result"
    }
   ],
   "source": [
    "a1D = np.array([1,2,3])\n",
    "a1D"
   ]
  },
  {
   "cell_type": "code",
   "execution_count": 5,
   "id": "4d68c140",
   "metadata": {},
   "outputs": [
    {
     "data": {
      "text/plain": [
       "numpy.ndarray"
      ]
     },
     "execution_count": 5,
     "metadata": {},
     "output_type": "execute_result"
    }
   ],
   "source": [
    "type(a1D)"
   ]
  },
  {
   "cell_type": "code",
   "execution_count": 7,
   "id": "050ed910",
   "metadata": {},
   "outputs": [
    {
     "data": {
      "text/plain": [
       "dtype('int64')"
      ]
     },
     "execution_count": 7,
     "metadata": {},
     "output_type": "execute_result"
    }
   ],
   "source": [
    "a1D.dtype"
   ]
  },
  {
   "cell_type": "code",
   "execution_count": 8,
   "id": "7c9c30ce",
   "metadata": {},
   "outputs": [
    {
     "data": {
      "text/plain": [
       "array([1., 2., 3.])"
      ]
     },
     "execution_count": 8,
     "metadata": {},
     "output_type": "execute_result"
    }
   ],
   "source": [
    "b1D = np.array([1,2,3], dtype = float)\n",
    "b1D"
   ]
  },
  {
   "cell_type": "code",
   "execution_count": 9,
   "id": "ea9b4957",
   "metadata": {},
   "outputs": [
    {
     "data": {
      "text/plain": [
       "dtype('float64')"
      ]
     },
     "execution_count": 9,
     "metadata": {},
     "output_type": "execute_result"
    }
   ],
   "source": [
    "b1D.dtype"
   ]
  },
  {
   "cell_type": "code",
   "execution_count": 10,
   "id": "dfc5f263",
   "metadata": {},
   "outputs": [
    {
     "data": {
      "text/plain": [
       "array(['1', '2', '3'], dtype='<U1')"
      ]
     },
     "execution_count": 10,
     "metadata": {},
     "output_type": "execute_result"
    }
   ],
   "source": [
    "c1D = np.array([1,2,3], dtype = str)\n",
    "c1D"
   ]
  },
  {
   "cell_type": "code",
   "execution_count": null,
   "id": "b336e868",
   "metadata": {},
   "outputs": [
    {
     "data": {
      "text/plain": [
       "array(['1', '3.14', 'NumPy', 'True'], dtype='<U32')"
      ]
     },
     "execution_count": 11,
     "metadata": {},
     "output_type": "execute_result"
    }
   ],
   "source": [
    "# str > float > int > bool (nesse caso, todos os elementos são salvos como string, por conta da precedencia entre os tipo)\n",
    "d1D = np.array([1, 3.14, \"NumPy\", True])\n",
    "d1D"
   ]
  },
  {
   "cell_type": "code",
   "execution_count": 12,
   "id": "9bbe28ec",
   "metadata": {},
   "outputs": [
    {
     "data": {
      "text/plain": [
       "array([[1, 2, 3],\n",
       "       [4, 5, 6],\n",
       "       [7, 8, 9]])"
      ]
     },
     "execution_count": 12,
     "metadata": {},
     "output_type": "execute_result"
    }
   ],
   "source": [
    "# Array de duas dimensões (Matriz)\n",
    "a2D = np.array([[1,2,3], [4,5,6], [7,8,9]])\n",
    "a2D"
   ]
  },
  {
   "cell_type": "code",
   "execution_count": 14,
   "id": "588b5ee2",
   "metadata": {},
   "outputs": [
    {
     "data": {
      "text/plain": [
       "array([0., 0., 0., 0., 0.])"
      ]
     },
     "execution_count": 14,
     "metadata": {},
     "output_type": "execute_result"
    }
   ],
   "source": [
    "azeros = np.zeros(5)\n",
    "azeros"
   ]
  },
  {
   "cell_type": "code",
   "execution_count": 15,
   "id": "82828ce9",
   "metadata": {},
   "outputs": [
    {
     "data": {
      "text/plain": [
       "array([[1., 1., 1., 1.],\n",
       "       [1., 1., 1., 1.],\n",
       "       [1., 1., 1., 1.],\n",
       "       [1., 1., 1., 1.],\n",
       "       [1., 1., 1., 1.]])"
      ]
     },
     "execution_count": 15,
     "metadata": {},
     "output_type": "execute_result"
    }
   ],
   "source": [
    "aones = np.ones((5, 4))\n",
    "aones"
   ]
  },
  {
   "cell_type": "code",
   "execution_count": 17,
   "id": "6845543c",
   "metadata": {},
   "outputs": [
    {
     "data": {
      "text/plain": [
       "array([10, 12, 14, 16, 18, 20, 22, 24, 26, 28])"
      ]
     },
     "execution_count": 17,
     "metadata": {},
     "output_type": "execute_result"
    }
   ],
   "source": [
    "array_listado = np.arange(10,30,2)\n",
    "array_listado"
   ]
  },
  {
   "cell_type": "code",
   "execution_count": 19,
   "id": "52dda153",
   "metadata": {},
   "outputs": [
    {
     "data": {
      "text/plain": [
       "array([10., 20., 30.])"
      ]
     },
     "execution_count": 19,
     "metadata": {},
     "output_type": "execute_result"
    }
   ],
   "source": [
    "array_igualmente = np.linspace(10, 30, 3)\n",
    "array_igualmente"
   ]
  },
  {
   "cell_type": "code",
   "execution_count": 20,
   "id": "e8c8faa7",
   "metadata": {},
   "outputs": [
    {
     "data": {
      "text/plain": [
       "array([10, 20, 30])"
      ]
     },
     "execution_count": 20,
     "metadata": {},
     "output_type": "execute_result"
    }
   ],
   "source": [
    "array_igualmente2 = np.linspace(10, 30, 3, dtype = int)\n",
    "array_igualmente2"
   ]
  },
  {
   "cell_type": "code",
   "execution_count": 21,
   "id": "5a678a8c",
   "metadata": {},
   "outputs": [
    {
     "data": {
      "text/plain": [
       "array([10, 16, 23])"
      ]
     },
     "execution_count": 21,
     "metadata": {},
     "output_type": "execute_result"
    }
   ],
   "source": [
    "array_igualmente3 = np.linspace(10, 30, 3, dtype = int, endpoint=False)\n",
    "array_igualmente3"
   ]
  },
  {
   "cell_type": "code",
   "execution_count": 22,
   "id": "8e78c42f",
   "metadata": {},
   "outputs": [
    {
     "data": {
      "text/plain": [
       "array([5, 5, 5, 5, 5, 5, 5, 5, 5, 5])"
      ]
     },
     "execution_count": 22,
     "metadata": {},
     "output_type": "execute_result"
    }
   ],
   "source": [
    "array_full = np.full(10, 5)\n",
    "array_full"
   ]
  },
  {
   "cell_type": "code",
   "execution_count": 23,
   "id": "0d629b98",
   "metadata": {},
   "outputs": [
    {
     "data": {
      "text/plain": [
       "array([[-1, -1, -1, -1, -1],\n",
       "       [-1, -1, -1, -1, -1],\n",
       "       [-1, -1, -1, -1, -1],\n",
       "       [-1, -1, -1, -1, -1],\n",
       "       [-1, -1, -1, -1, -1],\n",
       "       [-1, -1, -1, -1, -1],\n",
       "       [-1, -1, -1, -1, -1],\n",
       "       [-1, -1, -1, -1, -1],\n",
       "       [-1, -1, -1, -1, -1],\n",
       "       [-1, -1, -1, -1, -1]])"
      ]
     },
     "execution_count": 23,
     "metadata": {},
     "output_type": "execute_result"
    }
   ],
   "source": [
    "array_full2 = np.full((10, 5), -1)\n",
    "array_full2"
   ]
  },
  {
   "cell_type": "code",
   "execution_count": 25,
   "id": "4098808a",
   "metadata": {},
   "outputs": [
    {
     "data": {
      "text/plain": [
       "array([[1., 0., 0., 0., 0.],\n",
       "       [0., 1., 0., 0., 0.],\n",
       "       [0., 0., 1., 0., 0.],\n",
       "       [0., 0., 0., 1., 0.],\n",
       "       [0., 0., 0., 0., 1.]])"
      ]
     },
     "execution_count": 25,
     "metadata": {},
     "output_type": "execute_result"
    }
   ],
   "source": [
    "ident = np.eye(5)\n",
    "ident"
   ]
  },
  {
   "cell_type": "code",
   "execution_count": 26,
   "id": "824ecee3",
   "metadata": {},
   "outputs": [
    {
     "data": {
      "text/plain": [
       "array([73, 55, 33,  5, 34, 63, 72, 59, 89, 75], dtype=int32)"
      ]
     },
     "execution_count": 26,
     "metadata": {},
     "output_type": "execute_result"
    }
   ],
   "source": [
    "aleatorio = np.random.randint(0,100, 10)\n",
    "aleatorio"
   ]
  },
  {
   "cell_type": "code",
   "execution_count": 27,
   "id": "a4867971",
   "metadata": {},
   "outputs": [
    {
     "data": {
      "text/plain": [
       "array([[ 0, 46, 38,  5,  0],\n",
       "       [15, 91, 52, 43, 51],\n",
       "       [ 2, 50, 68, 97, 22],\n",
       "       [17, 47,  3, 74,  9]], dtype=int32)"
      ]
     },
     "execution_count": 27,
     "metadata": {},
     "output_type": "execute_result"
    }
   ],
   "source": [
    "aleatorio2 = np.random.randint(0,100, (4,5))\n",
    "aleatorio2 "
   ]
  },
  {
   "cell_type": "code",
   "execution_count": 30,
   "id": "8b5a5927",
   "metadata": {},
   "outputs": [
    {
     "data": {
      "text/plain": [
       "array([[[14, 11,  5, 52,  5, 47]],\n",
       "\n",
       "       [[59, 17, 43, 10, 21, 37]],\n",
       "\n",
       "       [[ 3,  2, 52, 59, 17, 38]],\n",
       "\n",
       "       [[10, 12, 10, 22, 13, 43]],\n",
       "\n",
       "       [[48, 44, 19, 38,  3, 53]],\n",
       "\n",
       "       [[52, 43, 16, 48, 38, 52]],\n",
       "\n",
       "       [[ 4, 49,  1, 60, 34,  1]],\n",
       "\n",
       "       [[26, 38, 41, 16, 25, 37]],\n",
       "\n",
       "       [[29, 47, 24,  4, 59, 15]],\n",
       "\n",
       "       [[ 2, 27, 22, 18, 17, 32]]], dtype=int32)"
      ]
     },
     "execution_count": 30,
     "metadata": {},
     "output_type": "execute_result"
    }
   ],
   "source": [
    "aleatorio3 = np.random.randint(1,61, (10,1,6))\n",
    "aleatorio3 "
   ]
  },
  {
   "cell_type": "code",
   "execution_count": 29,
   "id": "21ecd60e",
   "metadata": {},
   "outputs": [
    {
     "data": {
      "text/plain": [
       "array([0.46601192, 0.97014992, 0.37944636, 0.62203212, 0.20884593,\n",
       "       0.22537803, 0.72943624, 0.61527365, 0.73943431, 0.49295675])"
      ]
     },
     "execution_count": 29,
     "metadata": {},
     "output_type": "execute_result"
    }
   ],
   "source": [
    "aleat = np.random.random(10)\n",
    "aleat"
   ]
  },
  {
   "cell_type": "code",
   "execution_count": 31,
   "id": "b88e470a",
   "metadata": {},
   "outputs": [
    {
     "data": {
      "text/plain": [
       "array([[0.36355644, 0.81594879],\n",
       "       [0.93918732, 0.12948018],\n",
       "       [0.05449818, 0.29199613],\n",
       "       [0.01288956, 0.68975557],\n",
       "       [0.17361596, 0.26097214],\n",
       "       [0.98659485, 0.10807833],\n",
       "       [0.72275975, 0.87327516],\n",
       "       [0.57715604, 0.42804263],\n",
       "       [0.82838767, 0.95639919],\n",
       "       [0.29052133, 0.33255344]])"
      ]
     },
     "execution_count": 31,
     "metadata": {},
     "output_type": "execute_result"
    }
   ],
   "source": [
    "aleat2 = np.random.random((10, 2))\n",
    "aleat2"
   ]
  },
  {
   "cell_type": "markdown",
   "id": "802fbada",
   "metadata": {},
   "source": [
    "##### As colunas tem axis = 0 e as linhas axis = 1 (0 corresponde ao eixo y e o 1 corresponde ao eixo x)"
   ]
  }
 ],
 "metadata": {
  "kernelspec": {
   "display_name": "Python 3",
   "language": "python",
   "name": "python3"
  },
  "language_info": {
   "codemirror_mode": {
    "name": "ipython",
    "version": 3
   },
   "file_extension": ".py",
   "mimetype": "text/x-python",
   "name": "python",
   "nbconvert_exporter": "python",
   "pygments_lexer": "ipython3",
   "version": "3.11.9"
  }
 },
 "nbformat": 4,
 "nbformat_minor": 5
}
