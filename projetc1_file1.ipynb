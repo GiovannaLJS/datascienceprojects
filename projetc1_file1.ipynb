{
 "cells": [
  {
   "cell_type": "code",
   "execution_count": 1,
   "id": "43e1e2ee",
   "metadata": {},
   "outputs": [
    {
     "name": "stdout",
     "output_type": "stream",
     "text": [
      "Teste - Hello World\n"
     ]
    }
   ],
   "source": [
    "print(\"Teste - Hello World\")"
   ]
  },
  {
   "cell_type": "code",
   "execution_count": 2,
   "id": "a4bbf9a9",
   "metadata": {},
   "outputs": [],
   "source": [
    "dict = {2524: \"Maçaneta\"}"
   ]
  },
  {
   "cell_type": "code",
   "execution_count": 3,
   "id": "9bbeb8f3",
   "metadata": {},
   "outputs": [],
   "source": [
    "senha = 2524"
   ]
  },
  {
   "cell_type": "code",
   "execution_count": 5,
   "id": "1e87d93e",
   "metadata": {},
   "outputs": [
    {
     "data": {
      "text/plain": [
       "'Maçaneta'"
      ]
     },
     "execution_count": 5,
     "metadata": {},
     "output_type": "execute_result"
    }
   ],
   "source": [
    "dict[senha]"
   ]
  },
  {
   "cell_type": "code",
   "execution_count": 6,
   "id": "b708baaa",
   "metadata": {},
   "outputs": [],
   "source": [
    "st = \"Giovanna\""
   ]
  },
  {
   "cell_type": "code",
   "execution_count": 13,
   "id": "c5af8851",
   "metadata": {},
   "outputs": [
    {
     "data": {
      "text/plain": [
       "True"
      ]
     },
     "execution_count": 13,
     "metadata": {},
     "output_type": "execute_result"
    }
   ],
   "source": [
    "st[0].isupper()"
   ]
  },
  {
   "cell_type": "code",
   "execution_count": 14,
   "id": "2652c362",
   "metadata": {},
   "outputs": [
    {
     "data": {
      "text/plain": [
       "False"
      ]
     },
     "execution_count": 14,
     "metadata": {},
     "output_type": "execute_result"
    }
   ],
   "source": [
    "st[1].isupper()"
   ]
  },
  {
   "cell_type": "code",
   "execution_count": 22,
   "id": "cb4161a8",
   "metadata": {},
   "outputs": [
    {
     "data": {
      "text/plain": [
       "'Giovanna<'"
      ]
     },
     "execution_count": 22,
     "metadata": {},
     "output_type": "execute_result"
    }
   ],
   "source": [
    "st.ljust(9, \"<\")\n"
   ]
  },
  {
   "cell_type": "code",
   "execution_count": 23,
   "id": "3569b594",
   "metadata": {},
   "outputs": [
    {
     "data": {
      "text/plain": [
       "'Giovanna<'"
      ]
     },
     "execution_count": 23,
     "metadata": {},
     "output_type": "execute_result"
    }
   ],
   "source": [
    "\"Giovanna\".ljust(9, \"<\")"
   ]
  },
  {
   "cell_type": "code",
   "execution_count": 25,
   "id": "2c4f52ca",
   "metadata": {},
   "outputs": [],
   "source": [
    "email = 'giovanna.jacob@gmail.com'"
   ]
  },
  {
   "cell_type": "code",
   "execution_count": 26,
   "id": "d270f7ae",
   "metadata": {},
   "outputs": [
    {
     "data": {
      "text/plain": [
       "['giovanna.jacob', 'gmail.com']"
      ]
     },
     "execution_count": 26,
     "metadata": {},
     "output_type": "execute_result"
    }
   ],
   "source": [
    "email.split(\"@\")"
   ]
  },
  {
   "cell_type": "code",
   "execution_count": 27,
   "id": "369f4e1c",
   "metadata": {},
   "outputs": [],
   "source": [
    "cpf = '123.456.789-10'"
   ]
  },
  {
   "cell_type": "code",
   "execution_count": 30,
   "id": "44a96248",
   "metadata": {},
   "outputs": [
    {
     "data": {
      "text/plain": [
       "['123', '456', '789-10']"
      ]
     },
     "execution_count": 30,
     "metadata": {},
     "output_type": "execute_result"
    }
   ],
   "source": [
    "ajuste_cpf = cpf.split('.')\n",
    "ajuste_cpf"
   ]
  },
  {
   "cell_type": "code",
   "execution_count": 34,
   "id": "0942c0bb",
   "metadata": {},
   "outputs": [
    {
     "data": {
      "text/plain": [
       "['789', '10']"
      ]
     },
     "execution_count": 34,
     "metadata": {},
     "output_type": "execute_result"
    }
   ],
   "source": [
    "ajuste_cpf[2].split('-')"
   ]
  },
  {
   "cell_type": "code",
   "execution_count": 40,
   "id": "3d47ddeb",
   "metadata": {},
   "outputs": [],
   "source": [
    "semaforo = input('Cor do semafora')"
   ]
  },
  {
   "cell_type": "code",
   "execution_count": 41,
   "id": "bca82a6b",
   "metadata": {},
   "outputs": [
    {
     "name": "stdout",
     "output_type": "stream",
     "text": [
      "SÓ VAI\n"
     ]
    }
   ],
   "source": [
    "if semaforo == 'VERMELHOR':\n",
    "    print('PARA BICHA! SE TA LOKA!')\n",
    "elif semaforo == 'LARANJA':\n",
    "    print('PRESTA ATENÇÃO CARAIO')\n",
    "else:\n",
    "    print('SÓ VAI')"
   ]
  },
  {
   "cell_type": "code",
   "execution_count": 48,
   "id": "44509596",
   "metadata": {},
   "outputs": [],
   "source": [
    "#XOR apenas uma das duas condição deve ser verdadeira\n",
    "v1 = 2\n",
    "v4 = 2\n",
    "v2 = 3\n",
    "v5 = 3\n",
    "if v1 == v2 ^ v1 == v4:\n",
    "    print(\"Verdade\")\n",
    "elif v2 == v5 ^ v1 == v4:\n",
    "    print(\"Mentira\")"
   ]
  },
  {
   "cell_type": "code",
   "execution_count": 55,
   "id": "776bd7e6",
   "metadata": {},
   "outputs": [],
   "source": [
    "i = int(input(\"Digite o valor do indice /n 1, 2, 3 /n aperte 0 para encerrar o programa\"))"
   ]
  },
  {
   "cell_type": "code",
   "execution_count": 56,
   "id": "09d46eef",
   "metadata": {},
   "outputs": [
    {
     "name": "stdout",
     "output_type": "stream",
     "text": [
      "Azul\n"
     ]
    }
   ],
   "source": [
    "while (i != 0) :\n",
    "    if i == 1:\n",
    "        print('Amarelo')\n",
    "        i = 0\n",
    "\n",
    "    elif i == 2:\n",
    "        print('Azul')\n",
    "        i = 0\n",
    "\n",
    "    elif i == 3:\n",
    "        print(\"Vermelho\")\n",
    "        i = 0\n",
    "\n",
    "    else:\n",
    "        i = 0"
   ]
  },
  {
   "cell_type": "code",
   "execution_count": 57,
   "id": "6c012156",
   "metadata": {},
   "outputs": [],
   "source": [
    "lista = [1,2,3,4,5,6,7,8]"
   ]
  },
  {
   "cell_type": "code",
   "execution_count": 58,
   "id": "0faaebf6",
   "metadata": {},
   "outputs": [
    {
     "name": "stdout",
     "output_type": "stream",
     "text": [
      "1\n",
      "2\n",
      "3\n",
      "4\n",
      "5\n",
      "6\n",
      "7\n",
      "8\n"
     ]
    }
   ],
   "source": [
    "for num in lista:\n",
    "    print(num)"
   ]
  },
  {
   "cell_type": "code",
   "execution_count": 59,
   "id": "15b1390a",
   "metadata": {},
   "outputs": [
    {
     "name": "stdout",
     "output_type": "stream",
     "text": [
      "8\n"
     ]
    }
   ],
   "source": [
    "print(num)"
   ]
  },
  {
   "cell_type": "code",
   "execution_count": 60,
   "id": "042bd5e7",
   "metadata": {},
   "outputs": [
    {
     "name": "stdout",
     "output_type": "stream",
     "text": [
      "PAR\n",
      "IMPAR\n",
      "PAR\n",
      "IMPAR\n",
      "PAR\n",
      "IMPAR\n",
      "PAR\n",
      "IMPAR\n"
     ]
    }
   ],
   "source": [
    "for num in lista:\n",
    "    if num % 2:\n",
    "        print(\"PAR\")\n",
    "    else:\n",
    "        print(\"IMPAR\")"
   ]
  },
  {
   "cell_type": "code",
   "execution_count": 62,
   "id": "74acc443",
   "metadata": {},
   "outputs": [
    {
     "name": "stdout",
     "output_type": "stream",
     "text": [
      "PAR\n",
      "IMPAR\n",
      "PAR\n",
      "IMPAR\n",
      "PAR\n",
      "IMPAR\n",
      "PAR\n",
      "IMPAR\n",
      "IMPAR  4  PAR  4\n"
     ]
    }
   ],
   "source": [
    "cont_impar = 0\n",
    "cont_par = 0\n",
    "for num in lista:\n",
    "    if num % 2:\n",
    "        print(\"PAR\")\n",
    "        cont_par += 1\n",
    "    else:\n",
    "        print(\"IMPAR\")\n",
    "        cont_impar += 1\n",
    "\n",
    "print(\"IMPAR \", cont_impar, \" PAR \", cont_par )"
   ]
  },
  {
   "cell_type": "code",
   "execution_count": 64,
   "id": "6bea5ef9",
   "metadata": {},
   "outputs": [
    {
     "name": "stdout",
     "output_type": "stream",
     "text": [
      "1\n",
      "4\n",
      "7\n",
      "10\n",
      "13\n",
      "16\n",
      "19\n",
      "22\n",
      "25\n",
      "28\n"
     ]
    }
   ],
   "source": [
    "for num in range(1,30,3):\n",
    "    print(num)"
   ]
  },
  {
   "cell_type": "code",
   "execution_count": 4,
   "id": "2134dc1e",
   "metadata": {},
   "outputs": [],
   "source": [
    "def print_hello (nome): return print(\"Olá \" + nome)"
   ]
  },
  {
   "cell_type": "code",
   "execution_count": 6,
   "id": "4494dd0f",
   "metadata": {},
   "outputs": [
    {
     "name": "stdout",
     "output_type": "stream",
     "text": [
      "Olá Fancisco\n"
     ]
    }
   ],
   "source": [
    "nome = 'Fancisco'\n",
    "print_hello(nome)"
   ]
  },
  {
   "cell_type": "code",
   "execution_count": 7,
   "id": "85cb4f8b",
   "metadata": {},
   "outputs": [],
   "source": [
    "quadrado = lambda num: num * num"
   ]
  },
  {
   "cell_type": "code",
   "execution_count": 8,
   "id": "15a5e3bc",
   "metadata": {},
   "outputs": [
    {
     "data": {
      "text/plain": [
       "10000"
      ]
     },
     "execution_count": 8,
     "metadata": {},
     "output_type": "execute_result"
    }
   ],
   "source": [
    "quadrado(100)"
   ]
  },
  {
   "cell_type": "code",
   "execution_count": 9,
   "id": "c14153ae",
   "metadata": {},
   "outputs": [],
   "source": [
    "lambida_pot = lambda num, pot: num ** pot"
   ]
  },
  {
   "cell_type": "code",
   "execution_count": 13,
   "id": "47004f7d",
   "metadata": {},
   "outputs": [
    {
     "data": {
      "text/plain": [
       "10000"
      ]
     },
     "execution_count": 13,
     "metadata": {},
     "output_type": "execute_result"
    }
   ],
   "source": [
    "lambida_pot(10, 4)"
   ]
  },
  {
   "cell_type": "code",
   "execution_count": 14,
   "id": "ad5a2e4e",
   "metadata": {},
   "outputs": [],
   "source": [
    "temp_celsious = [10, 24, 17, 32]"
   ]
  },
  {
   "cell_type": "code",
   "execution_count": 15,
   "id": "a3f6b3f9",
   "metadata": {},
   "outputs": [],
   "source": [
    "temp = list(map(lambda C: (9/5) * C + 32, temp_celsious))"
   ]
  },
  {
   "cell_type": "code",
   "execution_count": 16,
   "id": "c065b33c",
   "metadata": {},
   "outputs": [
    {
     "data": {
      "text/plain": [
       "[50.0, 75.2, 62.6, 89.6]"
      ]
     },
     "execution_count": 16,
     "metadata": {},
     "output_type": "execute_result"
    }
   ],
   "source": [
    "temp"
   ]
  },
  {
   "cell_type": "code",
   "execution_count": 17,
   "id": "587d7b47",
   "metadata": {},
   "outputs": [],
   "source": [
    "from functools import reduce"
   ]
  },
  {
   "cell_type": "code",
   "execution_count": 18,
   "id": "9376895d",
   "metadata": {},
   "outputs": [
    {
     "name": "stdout",
     "output_type": "stream",
     "text": [
      "277.4\n"
     ]
    }
   ],
   "source": [
    "print(reduce(lambda n1, n2: n1+n2, temp))"
   ]
  },
  {
   "cell_type": "code",
   "execution_count": 19,
   "id": "06b0cb9a",
   "metadata": {},
   "outputs": [],
   "source": [
    "pares = list(filter(lambda num: num % 2 == 0, temp_celsious))"
   ]
  },
  {
   "cell_type": "code",
   "execution_count": 20,
   "id": "f7590bfa",
   "metadata": {},
   "outputs": [
    {
     "name": "stdout",
     "output_type": "stream",
     "text": [
      "[10, 24, 32]\n"
     ]
    }
   ],
   "source": [
    "print(pares)"
   ]
  },
  {
   "cell_type": "code",
   "execution_count": 21,
   "id": "cf5063f9",
   "metadata": {},
   "outputs": [],
   "source": [
    "lista_aninhada = [ [1,2,3],[4,5,6,7],[8,9],[ [10,11,12], [13, 14, 15] ] ]"
   ]
  },
  {
   "cell_type": "code",
   "execution_count": 23,
   "id": "268e15e8",
   "metadata": {},
   "outputs": [
    {
     "ename": "IndexError",
     "evalue": "list index out of range",
     "output_type": "error",
     "traceback": [
      "\u001b[31m---------------------------------------------------------------------------\u001b[39m",
      "\u001b[31mIndexError\u001b[39m                                Traceback (most recent call last)",
      "\u001b[36mCell\u001b[39m\u001b[36m \u001b[39m\u001b[32mIn[23]\u001b[39m\u001b[32m, line 1\u001b[39m\n\u001b[32m----> \u001b[39m\u001b[32m1\u001b[39m \u001b[43mlista_aninhada\u001b[49m\u001b[43m[\u001b[49m\u001b[32;43m12\u001b[39;49m\u001b[43m]\u001b[49m\n",
      "\u001b[31mIndexError\u001b[39m: list index out of range"
     ]
    }
   ],
   "source": [
    "lista_aninhada[12]"
   ]
  },
  {
   "cell_type": "code",
   "execution_count": 24,
   "id": "4b72ae3e",
   "metadata": {},
   "outputs": [
    {
     "data": {
      "text/plain": [
       "13"
      ]
     },
     "execution_count": 24,
     "metadata": {},
     "output_type": "execute_result"
    }
   ],
   "source": [
    "lista_aninhada[3][1][0]"
   ]
  },
  {
   "cell_type": "code",
   "execution_count": 25,
   "id": "4f8f1de5",
   "metadata": {},
   "outputs": [
    {
     "data": {
      "text/plain": [
       "[4, 5, 6, 7]"
      ]
     },
     "execution_count": 25,
     "metadata": {},
     "output_type": "execute_result"
    }
   ],
   "source": [
    "lista_aninhada[-3]"
   ]
  },
  {
   "cell_type": "code",
   "execution_count": 26,
   "id": "db90765b",
   "metadata": {},
   "outputs": [],
   "source": [
    "x = \"1978\""
   ]
  },
  {
   "cell_type": "code",
   "execution_count": 27,
   "id": "7d004813",
   "metadata": {},
   "outputs": [
    {
     "data": {
      "text/plain": [
       "str"
      ]
     },
     "execution_count": 27,
     "metadata": {},
     "output_type": "execute_result"
    }
   ],
   "source": [
    "type(x)"
   ]
  },
  {
   "cell_type": "code",
   "execution_count": 28,
   "id": "d2968e65",
   "metadata": {},
   "outputs": [],
   "source": [
    "dic = { \"MG\": {\"Área\": 586522, \"População\": 21040662, \"Capital\": \"Belo Horizonte\"},\n",
    "\n",
    "           \"SP\": {\"Área\": 248222, \"População\": 45538936, \"Capital\": \"São Paulo\"},\n",
    "\n",
    "           \"RS\": {\"Área\": 281730, \"População\": 11329605, \"Capital\": \"XYZ\"} }"
   ]
  },
  {
   "cell_type": "code",
   "execution_count": 29,
   "id": "5c7923d0",
   "metadata": {},
   "outputs": [
    {
     "ename": "SyntaxError",
     "evalue": "invalid syntax (3225790874.py, line 1)",
     "output_type": "error",
     "traceback": [
      "  \u001b[36mCell\u001b[39m\u001b[36m \u001b[39m\u001b[32mIn[29]\u001b[39m\u001b[32m, line 1\u001b[39m\n\u001b[31m    \u001b[39m\u001b[31mdic{\"RS\"}{\"Capital\"} = \"Porto Alegre\"\u001b[39m\n       ^\n\u001b[31mSyntaxError\u001b[39m\u001b[31m:\u001b[39m invalid syntax\n"
     ]
    }
   ],
   "source": [
    "dic{\"RS\"}{\"Capital\"} = \"Porto Alegre\""
   ]
  },
  {
   "cell_type": "code",
   "execution_count": 30,
   "id": "6ab93667",
   "metadata": {},
   "outputs": [],
   "source": [
    "dic[\"RS\"][\"Capital\"] = \"Porto Alegre\""
   ]
  },
  {
   "cell_type": "code",
   "execution_count": 31,
   "id": "1d4524db",
   "metadata": {},
   "outputs": [
    {
     "data": {
      "text/plain": [
       "{'MG': {'Área': 586522, 'População': 21040662, 'Capital': 'Belo Horizonte'},\n",
       " 'SP': {'Área': 248222, 'População': 45538936, 'Capital': 'São Paulo'},\n",
       " 'RS': {'Área': 281730, 'População': 11329605, 'Capital': 'Porto Alegre'}}"
      ]
     },
     "execution_count": 31,
     "metadata": {},
     "output_type": "execute_result"
    }
   ],
   "source": [
    "dic"
   ]
  },
  {
   "cell_type": "code",
   "execution_count": null,
   "id": "1df77e85",
   "metadata": {},
   "outputs": [],
   "source": []
  },
  {
   "cell_type": "code",
   "execution_count": null,
   "id": "574f531c",
   "metadata": {},
   "outputs": [],
   "source": []
  },
  {
   "cell_type": "code",
   "execution_count": null,
   "id": "50b4065b",
   "metadata": {},
   "outputs": [],
   "source": []
  },
  {
   "cell_type": "code",
   "execution_count": null,
   "id": "241a5d2f",
   "metadata": {},
   "outputs": [],
   "source": []
  }
 ],
 "metadata": {
  "kernelspec": {
   "display_name": "Python 3",
   "language": "python",
   "name": "python3"
  },
  "language_info": {
   "codemirror_mode": {
    "name": "ipython",
    "version": 3
   },
   "file_extension": ".py",
   "mimetype": "text/x-python",
   "name": "python",
   "nbconvert_exporter": "python",
   "pygments_lexer": "ipython3",
   "version": "3.11.9"
  }
 },
 "nbformat": 4,
 "nbformat_minor": 5
}
