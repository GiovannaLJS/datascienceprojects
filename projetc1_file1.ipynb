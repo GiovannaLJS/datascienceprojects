{
 "cells": [
  {
   "cell_type": "code",
   "execution_count": 1,
   "id": "43e1e2ee",
   "metadata": {},
   "outputs": [
    {
     "name": "stdout",
     "output_type": "stream",
     "text": [
      "Teste - Hello World\n"
     ]
    }
   ],
   "source": [
    "print(\"Teste - Hello World\")"
   ]
  },
  {
   "cell_type": "code",
   "execution_count": 2,
   "id": "a4bbf9a9",
   "metadata": {},
   "outputs": [],
   "source": [
    "dict = {2524: \"Maçaneta\"}"
   ]
  },
  {
   "cell_type": "code",
   "execution_count": 3,
   "id": "9bbeb8f3",
   "metadata": {},
   "outputs": [],
   "source": [
    "senha = 2524"
   ]
  },
  {
   "cell_type": "code",
   "execution_count": 5,
   "id": "1e87d93e",
   "metadata": {},
   "outputs": [
    {
     "data": {
      "text/plain": [
       "'Maçaneta'"
      ]
     },
     "execution_count": 5,
     "metadata": {},
     "output_type": "execute_result"
    }
   ],
   "source": [
    "dict[senha]"
   ]
  },
  {
   "cell_type": "code",
   "execution_count": 6,
   "id": "b708baaa",
   "metadata": {},
   "outputs": [],
   "source": [
    "st = \"Giovanna\""
   ]
  },
  {
   "cell_type": "code",
   "execution_count": 13,
   "id": "c5af8851",
   "metadata": {},
   "outputs": [
    {
     "data": {
      "text/plain": [
       "True"
      ]
     },
     "execution_count": 13,
     "metadata": {},
     "output_type": "execute_result"
    }
   ],
   "source": [
    "st[0].isupper()"
   ]
  },
  {
   "cell_type": "code",
   "execution_count": 14,
   "id": "2652c362",
   "metadata": {},
   "outputs": [
    {
     "data": {
      "text/plain": [
       "False"
      ]
     },
     "execution_count": 14,
     "metadata": {},
     "output_type": "execute_result"
    }
   ],
   "source": [
    "st[1].isupper()"
   ]
  },
  {
   "cell_type": "code",
   "execution_count": 22,
   "id": "cb4161a8",
   "metadata": {},
   "outputs": [
    {
     "data": {
      "text/plain": [
       "'Giovanna<'"
      ]
     },
     "execution_count": 22,
     "metadata": {},
     "output_type": "execute_result"
    }
   ],
   "source": [
    "st.ljust(9, \"<\")\n"
   ]
  },
  {
   "cell_type": "code",
   "execution_count": 23,
   "id": "3569b594",
   "metadata": {},
   "outputs": [
    {
     "data": {
      "text/plain": [
       "'Giovanna<'"
      ]
     },
     "execution_count": 23,
     "metadata": {},
     "output_type": "execute_result"
    }
   ],
   "source": [
    "\"Giovanna\".ljust(9, \"<\")"
   ]
  },
  {
   "cell_type": "code",
   "execution_count": 25,
   "id": "2c4f52ca",
   "metadata": {},
   "outputs": [],
   "source": [
    "email = 'giovanna.jacob@gmail.com'"
   ]
  },
  {
   "cell_type": "code",
   "execution_count": 26,
   "id": "d270f7ae",
   "metadata": {},
   "outputs": [
    {
     "data": {
      "text/plain": [
       "['giovanna.jacob', 'gmail.com']"
      ]
     },
     "execution_count": 26,
     "metadata": {},
     "output_type": "execute_result"
    }
   ],
   "source": [
    "email.split(\"@\")"
   ]
  },
  {
   "cell_type": "code",
   "execution_count": 27,
   "id": "369f4e1c",
   "metadata": {},
   "outputs": [],
   "source": [
    "cpf = '123.456.789-10'"
   ]
  },
  {
   "cell_type": "code",
   "execution_count": 30,
   "id": "44a96248",
   "metadata": {},
   "outputs": [
    {
     "data": {
      "text/plain": [
       "['123', '456', '789-10']"
      ]
     },
     "execution_count": 30,
     "metadata": {},
     "output_type": "execute_result"
    }
   ],
   "source": [
    "ajuste_cpf = cpf.split('.')\n",
    "ajuste_cpf"
   ]
  },
  {
   "cell_type": "code",
   "execution_count": 34,
   "id": "0942c0bb",
   "metadata": {},
   "outputs": [
    {
     "data": {
      "text/plain": [
       "['789', '10']"
      ]
     },
     "execution_count": 34,
     "metadata": {},
     "output_type": "execute_result"
    }
   ],
   "source": [
    "ajuste_cpf[2].split('-')"
   ]
  },
  {
   "cell_type": "code",
   "execution_count": 40,
   "id": "3d47ddeb",
   "metadata": {},
   "outputs": [],
   "source": [
    "semaforo = input('Cor do semafora')"
   ]
  },
  {
   "cell_type": "code",
   "execution_count": 41,
   "id": "bca82a6b",
   "metadata": {},
   "outputs": [
    {
     "name": "stdout",
     "output_type": "stream",
     "text": [
      "SÓ VAI\n"
     ]
    }
   ],
   "source": [
    "if semaforo == 'VERMELHOR':\n",
    "    print('PARA BICHA! SE TA LOKA!')\n",
    "elif semaforo == 'LARANJA':\n",
    "    print('PRESTA ATENÇÃO CARAIO')\n",
    "else:\n",
    "    print('SÓ VAI')"
   ]
  },
  {
   "cell_type": "code",
   "execution_count": 48,
   "id": "44509596",
   "metadata": {},
   "outputs": [],
   "source": [
    "#XOR apenas uma das duas condição deve ser verdadeira\n",
    "v1 = 2\n",
    "v4 = 2\n",
    "v2 = 3\n",
    "v5 = 3\n",
    "if v1 == v2 ^ v1 == v4:\n",
    "    print(\"Verdade\")\n",
    "elif v2 == v5 ^ v1 == v4:\n",
    "    print(\"Mentira\")"
   ]
  },
  {
   "cell_type": "code",
   "execution_count": 55,
   "id": "776bd7e6",
   "metadata": {},
   "outputs": [],
   "source": [
    "i = int(input(\"Digite o valor do indice /n 1, 2, 3 /n aperte 0 para encerrar o programa\"))"
   ]
  },
  {
   "cell_type": "code",
   "execution_count": 56,
   "id": "09d46eef",
   "metadata": {},
   "outputs": [
    {
     "name": "stdout",
     "output_type": "stream",
     "text": [
      "Azul\n"
     ]
    }
   ],
   "source": [
    "while (i != 0) :\n",
    "    if i == 1:\n",
    "        print('Amarelo')\n",
    "        i = 0\n",
    "\n",
    "    elif i == 2:\n",
    "        print('Azul')\n",
    "        i = 0\n",
    "\n",
    "    elif i == 3:\n",
    "        print(\"Vermelho\")\n",
    "        i = 0\n",
    "\n",
    "    else:\n",
    "        i = 0"
   ]
  },
  {
   "cell_type": "code",
   "execution_count": null,
   "id": "6c012156",
   "metadata": {},
   "outputs": [],
   "source": []
  }
 ],
 "metadata": {
  "kernelspec": {
   "display_name": "Python 3",
   "language": "python",
   "name": "python3"
  },
  "language_info": {
   "codemirror_mode": {
    "name": "ipython",
    "version": 3
   },
   "file_extension": ".py",
   "mimetype": "text/x-python",
   "name": "python",
   "nbconvert_exporter": "python",
   "pygments_lexer": "ipython3",
   "version": "3.11.9"
  }
 },
 "nbformat": 4,
 "nbformat_minor": 5
}
